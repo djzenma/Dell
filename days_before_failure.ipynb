{
 "cells": [
  {
   "cell_type": "code",
   "execution_count": 1,
   "metadata": {},
   "outputs": [],
   "source": [
    "import pandas as pd\n",
    "from datetime import datetime\n",
    "\n",
    "df = pd.read_csv('./DataP2/finaldata.csv')"
   ]
  },
  {
   "cell_type": "code",
   "execution_count": null,
   "metadata": {},
   "outputs": [
    {
     "name": "stdout",
     "output_type": "stream",
     "text": [
      "start\n"
     ]
    }
   ],
   "source": [
    "# Add Days before Failure\n",
    "\n",
    "print(\"start\")\n",
    "def add_days_before_failure(row):\n",
    "    # Find Failure Date of this record\n",
    "    try :\n",
    "        failure_date = df.loc[(df['serial_number'] == row['serial_number']) &\n",
    "                    (df['model'] == row['model']) &\n",
    "                    (df['failure'] == 1) ,\n",
    "                   'date']\n",
    "        days_diff = (datetime.strptime(failure_date, '%Y-%m-%d') - datetime.strptime(row['date'], '%Y-%m-%d'))\n",
    "        days = int(divmod(days_diff.total_seconds(), 86400)[0])\n",
    "    except KeyError:\n",
    "        days = 1000\n",
    "    print(days)\n",
    "    row['days_before_failure'] = days\n",
    "    return row\n",
    "\n",
    "tst = df.apply(add_days_before_failure, axis = 1)\n",
    "tst.head()"
   ]
  },
  {
   "cell_type": "code",
   "execution_count": null,
   "metadata": {},
   "outputs": [],
   "source": []
  }
 ],
 "metadata": {
  "kernelspec": {
   "display_name": "Python 3",
   "language": "python",
   "name": "python3"
  },
  "language_info": {
   "codemirror_mode": {
    "name": "ipython",
    "version": 3
   },
   "file_extension": ".py",
   "mimetype": "text/x-python",
   "name": "python",
   "nbconvert_exporter": "python",
   "pygments_lexer": "ipython3",
   "version": "3.7.4"
  }
 },
 "nbformat": 4,
 "nbformat_minor": 2
}
